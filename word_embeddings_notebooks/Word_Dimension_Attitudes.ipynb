{
 "cells": [
  {
   "cell_type": "code",
   "execution_count": 1,
   "metadata": {
    "collapsed": false
   },
   "outputs": [
    {
     "name": "stderr",
     "output_type": "stream",
     "text": [
      "C:\\ProgramData\\Anaconda3\\lib\\site-packages\\gensim\\utils.py:860: UserWarning: detected Windows; aliasing chunkize to chunkize_serial\n",
      "  warnings.warn(\"detected Windows; aliasing chunkize to chunkize_serial\")\n"
     ]
    }
   ],
   "source": [
    "import lucem_illud #pip install -U git+git://github.com/Computational-Content-Analysis-2018/lucem_illud.git\n",
    "\n",
    "#All these packages need to be installed from pip\n",
    "import gensim#For word2vec, etc\n",
    "import requests #For downloading our datasets\n",
    "import nltk #For stop words and stemmers\n",
    "import numpy as np #For arrays\n",
    "import pandas as pd#Gives us DataFrames\n",
    "import matplotlib.pyplot as plt #For graphics\n",
    "import seaborn #Makes the graphics look nicer\n",
    "import sklearn.metrics.pairwise #For cosine similarity\n",
    "import sklearn.manifold #For T-SNE\n",
    "import sklearn.decomposition #For PCA\n",
    "from nltk.corpus import stopwords\n",
    "\n",
    "import os #For looking through files\n",
    "import os.path #For managing file paths\n",
    "import warnings\n",
    "warnings.filterwarnings(\"ignore\", category=DeprecationWarning) \n",
    "\n",
    "%matplotlib inline"
   ]
  },
  {
   "cell_type": "code",
   "execution_count": 2,
   "metadata": {
    "collapsed": true
   },
   "outputs": [],
   "source": [
    "news_df1 = pd.read_pickle('../news_df_norm1.pkl')"
   ]
  },
  {
   "cell_type": "code",
   "execution_count": 3,
   "metadata": {
    "collapsed": true
   },
   "outputs": [],
   "source": [
    "news_df2 = pd.read_pickle('../news_df_norm2.pkl')"
   ]
  },
  {
   "cell_type": "code",
   "execution_count": 4,
   "metadata": {
    "collapsed": true
   },
   "outputs": [],
   "source": [
    "news_df = pd.concat([news_df1, news_df2])"
   ]
  },
  {
   "cell_type": "code",
   "execution_count": 5,
   "metadata": {
    "collapsed": true
   },
   "outputs": [],
   "source": [
    "our_stops = lucem_illud.stop_words_basic\n",
    "\n",
    "def prepare_dataframe(dataframe, text_column):\n",
    "    dataframe['tokenized_sents'] = dataframe[text_column].apply(\n",
    "        lambda x: [nltk.word_tokenize(s) for s in nltk.sent_tokenize(x)])\n",
    "    dataframe['normalized_sents'] = dataframe['tokenized_sents'].apply(\n",
    "        lambda x: [lucem_illud.normalizeTokens(s, stopwordLst = our_stops, stemmer = None) for s in x])\n",
    "\n",
    "def cos_difference(embedding,word1,word2):\n",
    "    return sklearn.metrics.pairwise.cosine_similarity(embedding[word1].reshape(1,-1),embedding[word2].reshape(1,-1))"
   ]
  },
  {
   "cell_type": "code",
   "execution_count": 6,
   "metadata": {
    "collapsed": true
   },
   "outputs": [],
   "source": [
    "#prepare df\n",
    "prepare_dataframe(news_df, 'text')\n",
    "news_w2v = gensim.models.word2vec.Word2Vec(news_df['normalized_sents'].sum())"
   ]
  },
  {
   "cell_type": "code",
   "execution_count": 33,
   "metadata": {
    "collapsed": true
   },
   "outputs": [],
   "source": [
    "#words to create dimensions\n",
    "# news_target_words = ['arab', 'china', 'india', 'america', 'uk', 'australia', 'nigeria', 'kenya']\n",
    "news_target_words = []\n",
    "news_target_words += ['rich', 'developed', 'wealth','wealthy', 'developing', 'poor','poverty','low']\n",
    "news_target_words += ['solution', 'hope', 'action', 'goal', 'risk', 'fear', 'disaster', 'failure']\n",
    "news_target_words += ['research', 'report', 'science', 'scientist', 'hoax', 'alternative', 'doubt', 'skeptic']\n",
    "news_target_words += ['agreement', 'government', 'international', 'nation', 'resource','energy','sustainable','invest']"
   ]
  },
  {
   "cell_type": "code",
   "execution_count": 34,
   "metadata": {
    "collapsed": true
   },
   "outputs": [],
   "source": [
    "def wordDimension(news_w2v, news_target_words):\n",
    "    wordsSubMatrix = []\n",
    "    for word in news_target_words:\n",
    "        wordsSubMatrix.append(news_w2v[word])\n",
    "    wordsSubMatrix = np.array(wordsSubMatrix)\n",
    "\n",
    "    news_pca_words = sklearn.decomposition.PCA(n_components = 50).fit(wordsSubMatrix)\n",
    "    news_reduced_pca = news_pca_words.transform(wordsSubMatrix)\n",
    "    #T-SNE is theoretically better, but you should experiment\n",
    "    news_tsne_words = sklearn.manifold.TSNE(n_components = 2).fit_transform(news_reduced_pca)\n",
    "\n",
    "    fig = plt.figure(figsize = (10,6))\n",
    "    ax = fig.add_subplot(111)\n",
    "    ax.set_frame_on(False)\n",
    "    plt.scatter(news_tsne_words[:, 0], news_tsne_words[:, 1], alpha = 0) #Making the points invisible\n",
    "    for i, word in enumerate(news_target_words):\n",
    "        ax.annotate(word, (news_tsne_words[:, 0][i],news_tsne_words[:, 1][i]), size =  20 * (len(news_target_words) - i) / len(news_target_words))\n",
    "    plt.xticks(())\n",
    "    plt.yticks(())\n",
    "    plt.show()"
   ]
  },
  {
   "cell_type": "code",
   "execution_count": 35,
   "metadata": {
    "collapsed": false
   },
   "outputs": [
    {
     "data": {
      "image/png": "[encoded data removed]",
      "text/plain": [
       "<matplotlib.figure.Figure at 0x20b343e9668>"
      ]
     },
     "metadata": {},
     "output_type": "display_data"
    }
   ],
   "source": [
    "wordDimension(news_w2v, news_target_words)"
   ]
  },
  {
   "cell_type": "code",
   "execution_count": 16,
   "metadata": {
    "collapsed": false
   },
   "outputs": [],
   "source": [
    "def dimension(model, positives, negatives):\n",
    "    diff = sum([normalize(model[x]) for x in positives]) - sum([normalize(model[y]) for y in negatives])\n",
    "    return diff\n",
    "\n",
    "def normalize(vector):\n",
    "    normalized_vector = vector / np.linalg.norm(vector)\n",
    "    return normalized_vector\n",
    "\n",
    "def makeDF2(model, to_classify_list, dim_name_list, dims):\n",
    "    dict_to_build ={}\n",
    "    for i in range(len(dim_name_list)):\n",
    "        sims = []\n",
    "        for word in to_classify_list:\n",
    "            sims.append(sklearn.metrics.pairwise.cosine_similarity(model[word].reshape(1,-1), dims[i].reshape(1,-1))[0][0])\n",
    "        dict_to_build[dim_name_list[i]] = sims\n",
    "    df = pd.DataFrame(dict_to_build, index = to_classify_list)\n",
    "    return df"
   ]
  },
  {
   "cell_type": "code",
   "execution_count": 21,
   "metadata": {
    "collapsed": true
   },
   "outputs": [],
   "source": [
    "def Coloring(Series):\n",
    "    x = Series.values\n",
    "    y = x-x.min()\n",
    "    z = y/y.max()\n",
    "    c = list(plt.cm.rainbow(z))\n",
    "    return c\n",
    "\n",
    "def PlotDimension(ax,df, dim):\n",
    "    ax.set_frame_on(False)\n",
    "    ax.set_title(dim, fontsize = 20)\n",
    "    colors = Coloring(df[dim])\n",
    "    for i, word in enumerate(df.index):\n",
    "        ax.annotate(word, (0, df[dim][i]), color = colors[i], alpha = 0.6, fontsize = 12)\n",
    "    MaxY = df[dim].max()\n",
    "    MinY = df[dim].min()\n",
    "    plt.ylim(MinY,MaxY)\n",
    "    plt.yticks(())\n",
    "    plt.xticks(())"
   ]
  },
  {
   "cell_type": "code",
   "execution_count": 30,
   "metadata": {
    "collapsed": false
   },
   "outputs": [],
   "source": [
    "dim_wealth = dimension(news_w2v, ['rich', 'developed', 'wealth','wealthy'], ['developing', 'poor','poverty','low'])\n",
    "dim_outlook = dimension(news_w2v, ['solution', 'hope', 'action', 'goal'],['risk', 'fear', 'disaster', 'failure'])\n",
    "dim_science = dimension(news_w2v, ['research', 'report', 'science', 'scientist'], ['hoax', 'alternative', 'doubt', 'skeptic'])\n",
    "dim_poli_eco = dimension(news_w2v, ['agreement', 'government', 'international', 'nation'], ['resource','energy','sustainable','invest'])\n",
    "dim_countries = ['arab', 'china', 'india', 'america', 'uk', 'australia', 'nigeria', 'kenya']"
   ]
  },
  {
   "cell_type": "code",
   "execution_count": 36,
   "metadata": {
    "collapsed": false
   },
   "outputs": [],
   "source": [
    "country_df = makeDF2(news_w2v, dim_countries, ['wealthy','hopeful','believing','political'], [dim_wealth, dim_outlook, dim_science, dim_poli_eco])"
   ]
  },
  {
   "cell_type": "code",
   "execution_count": 37,
   "metadata": {
    "collapsed": false
   },
   "outputs": [
    {
     "data": {
      "image/png": "[encoded data removed]",
      "text/plain": [
       "<matplotlib.figure.Figure at 0x20b0d0c3240>"
      ]
     },
     "metadata": {},
     "output_type": "display_data"
    }
   ],
   "source": [
    "#plot it \n",
    "fig = plt.figure(figsize = (12,4))\n",
    "ax1 = fig.add_subplot(141)\n",
    "PlotDimension(ax1, country_df, 'wealthy')\n",
    "ax2 = fig.add_subplot(142)\n",
    "PlotDimension(ax2, country_df, 'hopeful')\n",
    "ax3 = fig.add_subplot(143)\n",
    "PlotDimension(ax3, country_df, 'believing')\n",
    "ax4 = fig.add_subplot(144)\n",
    "PlotDimension(ax4, country_df, 'political')\n",
    "plt.show()"
   ]
  },
  {
   "cell_type": "code",
   "execution_count": null,
   "metadata": {
    "collapsed": true
   },
   "outputs": [],
   "source": []
  }
 ],
 "metadata": {
  "kernelspec": {
   "display_name": "Python 3",
   "language": "python",
   "name": "python3"
  },
  "language_info": {
   "codemirror_mode": {
    "name": "ipython",
    "version": 3
   },
   "file_extension": ".py",
   "mimetype": "text/x-python",
   "name": "python",
   "nbconvert_exporter": "python",
   "pygments_lexer": "ipython3",
   "version": "3.6.0"
  }
 },
 "nbformat": 4,
 "nbformat_minor": 2
}
